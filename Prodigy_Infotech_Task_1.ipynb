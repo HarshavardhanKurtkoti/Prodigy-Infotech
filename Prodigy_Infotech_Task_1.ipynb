{
  "cells": [
    {
      "cell_type": "code",
      "execution_count": null,
      "id": "17fcdc4f",
      "metadata": {
        "execution": {
          "iopub.execute_input": "2024-08-28T19:14:44.853072Z",
          "iopub.status.busy": "2024-08-28T19:14:44.852590Z",
          "iopub.status.idle": "2024-08-28T19:14:48.039521Z",
          "shell.execute_reply": "2024-08-28T19:14:48.038114Z"
        },
        "papermill": {
          "duration": 3.199053,
          "end_time": "2024-08-28T19:14:48.042737",
          "exception": false,
          "start_time": "2024-08-28T19:14:44.843684",
          "status": "completed"
        },
        "tags": [],
        "id": "17fcdc4f"
      },
      "outputs": [],
      "source": [
        "import numpy as np\n",
        "import pandas as pd\n",
        "import matplotlib.pyplot as plt\n",
        "import seaborn as sns\n",
        "\n",
        "from sklearn.model_selection import train_test_split\n",
        "from sklearn.preprocessing import LabelEncoder\n",
        "from sklearn.impute import SimpleImputer\n",
        "from sklearn.linear_model import LinearRegression\n",
        "from sklearn.metrics import mean_absolute_error, mean_squared_error"
      ]
    },
    {
      "cell_type": "code",
      "execution_count": null,
      "id": "bc95d0bc",
      "metadata": {
        "execution": {
          "iopub.execute_input": "2024-08-28T19:14:48.060952Z",
          "iopub.status.busy": "2024-08-28T19:14:48.060287Z",
          "iopub.status.idle": "2024-08-28T19:14:48.216159Z",
          "shell.execute_reply": "2024-08-28T19:14:48.213829Z"
        },
        "papermill": {
          "duration": 0.169129,
          "end_time": "2024-08-28T19:14:48.219171",
          "exception": false,
          "start_time": "2024-08-28T19:14:48.050042",
          "status": "completed"
        },
        "tags": [],
        "id": "bc95d0bc",
        "outputId": "b8160e99-3cfb-41dd-b593-a0970fee6f7e"
      },
      "outputs": [
        {
          "name": "stdout",
          "output_type": "stream",
          "text": [
            "<class 'pandas.core.frame.DataFrame'>\n",
            "RangeIndex: 1460 entries, 0 to 1459\n",
            "Data columns (total 81 columns):\n",
            " #   Column         Non-Null Count  Dtype  \n",
            "---  ------         --------------  -----  \n",
            " 0   Id             1460 non-null   int64  \n",
            " 1   MSSubClass     1460 non-null   int64  \n",
            " 2   MSZoning       1460 non-null   object \n",
            " 3   LotFrontage    1201 non-null   float64\n",
            " 4   LotArea        1460 non-null   int64  \n",
            " 5   Street         1460 non-null   object \n",
            " 6   Alley          91 non-null     object \n",
            " 7   LotShape       1460 non-null   object \n",
            " 8   LandContour    1460 non-null   object \n",
            " 9   Utilities      1460 non-null   object \n",
            " 10  LotConfig      1460 non-null   object \n",
            " 11  LandSlope      1460 non-null   object \n",
            " 12  Neighborhood   1460 non-null   object \n",
            " 13  Condition1     1460 non-null   object \n",
            " 14  Condition2     1460 non-null   object \n",
            " 15  BldgType       1460 non-null   object \n",
            " 16  HouseStyle     1460 non-null   object \n",
            " 17  OverallQual    1460 non-null   int64  \n",
            " 18  OverallCond    1460 non-null   int64  \n",
            " 19  YearBuilt      1460 non-null   int64  \n",
            " 20  YearRemodAdd   1460 non-null   int64  \n",
            " 21  RoofStyle      1460 non-null   object \n",
            " 22  RoofMatl       1460 non-null   object \n",
            " 23  Exterior1st    1460 non-null   object \n",
            " 24  Exterior2nd    1460 non-null   object \n",
            " 25  MasVnrType     588 non-null    object \n",
            " 26  MasVnrArea     1452 non-null   float64\n",
            " 27  ExterQual      1460 non-null   object \n",
            " 28  ExterCond      1460 non-null   object \n",
            " 29  Foundation     1460 non-null   object \n",
            " 30  BsmtQual       1423 non-null   object \n",
            " 31  BsmtCond       1423 non-null   object \n",
            " 32  BsmtExposure   1422 non-null   object \n",
            " 33  BsmtFinType1   1423 non-null   object \n",
            " 34  BsmtFinSF1     1460 non-null   int64  \n",
            " 35  BsmtFinType2   1422 non-null   object \n",
            " 36  BsmtFinSF2     1460 non-null   int64  \n",
            " 37  BsmtUnfSF      1460 non-null   int64  \n",
            " 38  TotalBsmtSF    1460 non-null   int64  \n",
            " 39  Heating        1460 non-null   object \n",
            " 40  HeatingQC      1460 non-null   object \n",
            " 41  CentralAir     1460 non-null   object \n",
            " 42  Electrical     1459 non-null   object \n",
            " 43  1stFlrSF       1460 non-null   int64  \n",
            " 44  2ndFlrSF       1460 non-null   int64  \n",
            " 45  LowQualFinSF   1460 non-null   int64  \n",
            " 46  GrLivArea      1460 non-null   int64  \n",
            " 47  BsmtFullBath   1460 non-null   int64  \n",
            " 48  BsmtHalfBath   1460 non-null   int64  \n",
            " 49  FullBath       1460 non-null   int64  \n",
            " 50  HalfBath       1460 non-null   int64  \n",
            " 51  BedroomAbvGr   1460 non-null   int64  \n",
            " 52  KitchenAbvGr   1460 non-null   int64  \n",
            " 53  KitchenQual    1460 non-null   object \n",
            " 54  TotRmsAbvGrd   1460 non-null   int64  \n",
            " 55  Functional     1460 non-null   object \n",
            " 56  Fireplaces     1460 non-null   int64  \n",
            " 57  FireplaceQu    770 non-null    object \n",
            " 58  GarageType     1379 non-null   object \n",
            " 59  GarageYrBlt    1379 non-null   float64\n",
            " 60  GarageFinish   1379 non-null   object \n",
            " 61  GarageCars     1460 non-null   int64  \n",
            " 62  GarageArea     1460 non-null   int64  \n",
            " 63  GarageQual     1379 non-null   object \n",
            " 64  GarageCond     1379 non-null   object \n",
            " 65  PavedDrive     1460 non-null   object \n",
            " 66  WoodDeckSF     1460 non-null   int64  \n",
            " 67  OpenPorchSF    1460 non-null   int64  \n",
            " 68  EnclosedPorch  1460 non-null   int64  \n",
            " 69  3SsnPorch      1460 non-null   int64  \n",
            " 70  ScreenPorch    1460 non-null   int64  \n",
            " 71  PoolArea       1460 non-null   int64  \n",
            " 72  PoolQC         7 non-null      object \n",
            " 73  Fence          281 non-null    object \n",
            " 74  MiscFeature    54 non-null     object \n",
            " 75  MiscVal        1460 non-null   int64  \n",
            " 76  MoSold         1460 non-null   int64  \n",
            " 77  YrSold         1460 non-null   int64  \n",
            " 78  SaleType       1460 non-null   object \n",
            " 79  SaleCondition  1460 non-null   object \n",
            " 80  SalePrice      1460 non-null   int64  \n",
            "dtypes: float64(3), int64(35), object(43)\n",
            "memory usage: 924.0+ KB\n",
            "duplicate rows: 0\n"
          ]
        },
        {
          "data": {
            "text/html": [
              "<div>\n",
              "<style scoped>\n",
              "    .dataframe tbody tr th:only-of-type {\n",
              "        vertical-align: middle;\n",
              "    }\n",
              "\n",
              "    .dataframe tbody tr th {\n",
              "        vertical-align: top;\n",
              "    }\n",
              "\n",
              "    .dataframe thead th {\n",
              "        text-align: right;\n",
              "    }\n",
              "</style>\n",
              "<table border=\"1\" class=\"dataframe\">\n",
              "  <thead>\n",
              "    <tr style=\"text-align: right;\">\n",
              "      <th></th>\n",
              "      <th>Id</th>\n",
              "      <th>MSSubClass</th>\n",
              "      <th>MSZoning</th>\n",
              "      <th>LotFrontage</th>\n",
              "      <th>LotArea</th>\n",
              "      <th>Street</th>\n",
              "      <th>Alley</th>\n",
              "      <th>LotShape</th>\n",
              "      <th>LandContour</th>\n",
              "      <th>Utilities</th>\n",
              "      <th>...</th>\n",
              "      <th>PoolArea</th>\n",
              "      <th>PoolQC</th>\n",
              "      <th>Fence</th>\n",
              "      <th>MiscFeature</th>\n",
              "      <th>MiscVal</th>\n",
              "      <th>MoSold</th>\n",
              "      <th>YrSold</th>\n",
              "      <th>SaleType</th>\n",
              "      <th>SaleCondition</th>\n",
              "      <th>SalePrice</th>\n",
              "    </tr>\n",
              "  </thead>\n",
              "  <tbody>\n",
              "    <tr>\n",
              "      <th>0</th>\n",
              "      <td>1</td>\n",
              "      <td>60</td>\n",
              "      <td>RL</td>\n",
              "      <td>65.0</td>\n",
              "      <td>8450</td>\n",
              "      <td>Pave</td>\n",
              "      <td>NaN</td>\n",
              "      <td>Reg</td>\n",
              "      <td>Lvl</td>\n",
              "      <td>AllPub</td>\n",
              "      <td>...</td>\n",
              "      <td>0</td>\n",
              "      <td>NaN</td>\n",
              "      <td>NaN</td>\n",
              "      <td>NaN</td>\n",
              "      <td>0</td>\n",
              "      <td>2</td>\n",
              "      <td>2008</td>\n",
              "      <td>WD</td>\n",
              "      <td>Normal</td>\n",
              "      <td>208500</td>\n",
              "    </tr>\n",
              "    <tr>\n",
              "      <th>1</th>\n",
              "      <td>2</td>\n",
              "      <td>20</td>\n",
              "      <td>RL</td>\n",
              "      <td>80.0</td>\n",
              "      <td>9600</td>\n",
              "      <td>Pave</td>\n",
              "      <td>NaN</td>\n",
              "      <td>Reg</td>\n",
              "      <td>Lvl</td>\n",
              "      <td>AllPub</td>\n",
              "      <td>...</td>\n",
              "      <td>0</td>\n",
              "      <td>NaN</td>\n",
              "      <td>NaN</td>\n",
              "      <td>NaN</td>\n",
              "      <td>0</td>\n",
              "      <td>5</td>\n",
              "      <td>2007</td>\n",
              "      <td>WD</td>\n",
              "      <td>Normal</td>\n",
              "      <td>181500</td>\n",
              "    </tr>\n",
              "    <tr>\n",
              "      <th>2</th>\n",
              "      <td>3</td>\n",
              "      <td>60</td>\n",
              "      <td>RL</td>\n",
              "      <td>68.0</td>\n",
              "      <td>11250</td>\n",
              "      <td>Pave</td>\n",
              "      <td>NaN</td>\n",
              "      <td>IR1</td>\n",
              "      <td>Lvl</td>\n",
              "      <td>AllPub</td>\n",
              "      <td>...</td>\n",
              "      <td>0</td>\n",
              "      <td>NaN</td>\n",
              "      <td>NaN</td>\n",
              "      <td>NaN</td>\n",
              "      <td>0</td>\n",
              "      <td>9</td>\n",
              "      <td>2008</td>\n",
              "      <td>WD</td>\n",
              "      <td>Normal</td>\n",
              "      <td>223500</td>\n",
              "    </tr>\n",
              "    <tr>\n",
              "      <th>3</th>\n",
              "      <td>4</td>\n",
              "      <td>70</td>\n",
              "      <td>RL</td>\n",
              "      <td>60.0</td>\n",
              "      <td>9550</td>\n",
              "      <td>Pave</td>\n",
              "      <td>NaN</td>\n",
              "      <td>IR1</td>\n",
              "      <td>Lvl</td>\n",
              "      <td>AllPub</td>\n",
              "      <td>...</td>\n",
              "      <td>0</td>\n",
              "      <td>NaN</td>\n",
              "      <td>NaN</td>\n",
              "      <td>NaN</td>\n",
              "      <td>0</td>\n",
              "      <td>2</td>\n",
              "      <td>2006</td>\n",
              "      <td>WD</td>\n",
              "      <td>Abnorml</td>\n",
              "      <td>140000</td>\n",
              "    </tr>\n",
              "    <tr>\n",
              "      <th>4</th>\n",
              "      <td>5</td>\n",
              "      <td>60</td>\n",
              "      <td>RL</td>\n",
              "      <td>84.0</td>\n",
              "      <td>14260</td>\n",
              "      <td>Pave</td>\n",
              "      <td>NaN</td>\n",
              "      <td>IR1</td>\n",
              "      <td>Lvl</td>\n",
              "      <td>AllPub</td>\n",
              "      <td>...</td>\n",
              "      <td>0</td>\n",
              "      <td>NaN</td>\n",
              "      <td>NaN</td>\n",
              "      <td>NaN</td>\n",
              "      <td>0</td>\n",
              "      <td>12</td>\n",
              "      <td>2008</td>\n",
              "      <td>WD</td>\n",
              "      <td>Normal</td>\n",
              "      <td>250000</td>\n",
              "    </tr>\n",
              "  </tbody>\n",
              "</table>\n",
              "<p>5 rows × 81 columns</p>\n",
              "</div>"
            ],
            "text/plain": [
              "   Id  MSSubClass MSZoning  LotFrontage  LotArea Street Alley LotShape  \\\n",
              "0   1          60       RL         65.0     8450   Pave   NaN      Reg   \n",
              "1   2          20       RL         80.0     9600   Pave   NaN      Reg   \n",
              "2   3          60       RL         68.0    11250   Pave   NaN      IR1   \n",
              "3   4          70       RL         60.0     9550   Pave   NaN      IR1   \n",
              "4   5          60       RL         84.0    14260   Pave   NaN      IR1   \n",
              "\n",
              "  LandContour Utilities  ... PoolArea PoolQC Fence MiscFeature MiscVal MoSold  \\\n",
              "0         Lvl    AllPub  ...        0    NaN   NaN         NaN       0      2   \n",
              "1         Lvl    AllPub  ...        0    NaN   NaN         NaN       0      5   \n",
              "2         Lvl    AllPub  ...        0    NaN   NaN         NaN       0      9   \n",
              "3         Lvl    AllPub  ...        0    NaN   NaN         NaN       0      2   \n",
              "4         Lvl    AllPub  ...        0    NaN   NaN         NaN       0     12   \n",
              "\n",
              "  YrSold  SaleType  SaleCondition  SalePrice  \n",
              "0   2008        WD         Normal     208500  \n",
              "1   2007        WD         Normal     181500  \n",
              "2   2008        WD         Normal     223500  \n",
              "3   2006        WD        Abnorml     140000  \n",
              "4   2008        WD         Normal     250000  \n",
              "\n",
              "[5 rows x 81 columns]"
            ]
          },
          "execution_count": 2,
          "metadata": {},
          "output_type": "execute_result"
        }
      ],
      "source": [
        "df= pd.read_csv('/kaggle/input/house-prices-advanced-regression-techniques/train.csv')\n",
        "df.info()\n",
        "print(f'duplicate rows: {df.duplicated().sum()}')\n",
        "df.head()"
      ]
    },
    {
      "cell_type": "code",
      "execution_count": null,
      "id": "bb1eddbb",
      "metadata": {
        "execution": {
          "iopub.execute_input": "2024-08-28T19:14:48.240809Z",
          "iopub.status.busy": "2024-08-28T19:14:48.240341Z",
          "iopub.status.idle": "2024-08-28T19:14:48.271230Z",
          "shell.execute_reply": "2024-08-28T19:14:48.269450Z"
        },
        "papermill": {
          "duration": 0.046473,
          "end_time": "2024-08-28T19:14:48.275234",
          "exception": false,
          "start_time": "2024-08-28T19:14:48.228761",
          "status": "completed"
        },
        "tags": [],
        "id": "bb1eddbb",
        "outputId": "d35b9f18-8cc1-434f-e6ea-673f49a86290"
      },
      "outputs": [
        {
          "data": {
            "text/plain": [
              "PoolQC          0.995205\n",
              "MiscFeature     0.963014\n",
              "Alley           0.937671\n",
              "Fence           0.807534\n",
              "MasVnrType      0.597260\n",
              "FireplaceQu     0.472603\n",
              "LotFrontage     0.177397\n",
              "GarageYrBlt     0.055479\n",
              "GarageCond      0.055479\n",
              "GarageType      0.055479\n",
              "GarageFinish    0.055479\n",
              "GarageQual      0.055479\n",
              "BsmtFinType2    0.026027\n",
              "BsmtExposure    0.026027\n",
              "BsmtQual        0.025342\n",
              "BsmtCond        0.025342\n",
              "BsmtFinType1    0.025342\n",
              "MasVnrArea      0.005479\n",
              "Electrical      0.000685\n",
              "Id              0.000000\n",
              "dtype: float64"
            ]
          },
          "execution_count": 3,
          "metadata": {},
          "output_type": "execute_result"
        }
      ],
      "source": [
        "missing_values= df.isnull().sum()/df.isnull().count()\n",
        "missing_values.sort_values(ascending=False).head(20)"
      ]
    },
    {
      "cell_type": "code",
      "execution_count": null,
      "id": "ccb98d7a",
      "metadata": {
        "execution": {
          "iopub.execute_input": "2024-08-28T19:14:48.296049Z",
          "iopub.status.busy": "2024-08-28T19:14:48.295562Z",
          "iopub.status.idle": "2024-08-28T19:14:48.304643Z",
          "shell.execute_reply": "2024-08-28T19:14:48.302478Z"
        },
        "papermill": {
          "duration": 0.024191,
          "end_time": "2024-08-28T19:14:48.308549",
          "exception": false,
          "start_time": "2024-08-28T19:14:48.284358",
          "status": "completed"
        },
        "tags": [],
        "id": "ccb98d7a"
      },
      "outputs": [],
      "source": [
        "dropped= missing_values[missing_values>0].index"
      ]
    },
    {
      "cell_type": "code",
      "execution_count": null,
      "id": "926ba620",
      "metadata": {
        "execution": {
          "iopub.execute_input": "2024-08-28T19:14:48.328457Z",
          "iopub.status.busy": "2024-08-28T19:14:48.328036Z",
          "iopub.status.idle": "2024-08-28T19:14:48.335716Z",
          "shell.execute_reply": "2024-08-28T19:14:48.334353Z"
        },
        "papermill": {
          "duration": 0.021598,
          "end_time": "2024-08-28T19:14:48.339573",
          "exception": false,
          "start_time": "2024-08-28T19:14:48.317975",
          "status": "completed"
        },
        "tags": [],
        "id": "926ba620"
      },
      "outputs": [],
      "source": [
        "def preprocess(df):\n",
        "        df.drop(dropped, axis=1, inplace=True)\n",
        "        encoder= LabelEncoder()\n",
        "        for col in df.columns:\n",
        "                if df[col].dtype==\"O\":\n",
        "                        df[col]= encoder.fit_transform(df[col])\n",
        "        del(encoder)"
      ]
    },
    {
      "cell_type": "code",
      "execution_count": null,
      "id": "b60682c0",
      "metadata": {
        "execution": {
          "iopub.execute_input": "2024-08-28T19:14:48.358716Z",
          "iopub.status.busy": "2024-08-28T19:14:48.358234Z",
          "iopub.status.idle": "2024-08-28T19:14:48.393261Z",
          "shell.execute_reply": "2024-08-28T19:14:48.391640Z"
        },
        "papermill": {
          "duration": 0.048534,
          "end_time": "2024-08-28T19:14:48.396403",
          "exception": false,
          "start_time": "2024-08-28T19:14:48.347869",
          "status": "completed"
        },
        "tags": [],
        "id": "b60682c0"
      },
      "outputs": [],
      "source": [
        "preprocess(df)"
      ]
    },
    {
      "cell_type": "code",
      "execution_count": null,
      "id": "7bd7a418",
      "metadata": {
        "execution": {
          "iopub.execute_input": "2024-08-28T19:14:48.415892Z",
          "iopub.status.busy": "2024-08-28T19:14:48.415392Z",
          "iopub.status.idle": "2024-08-28T19:14:48.424725Z",
          "shell.execute_reply": "2024-08-28T19:14:48.423440Z"
        },
        "papermill": {
          "duration": 0.023163,
          "end_time": "2024-08-28T19:14:48.427610",
          "exception": false,
          "start_time": "2024-08-28T19:14:48.404447",
          "status": "completed"
        },
        "tags": [],
        "id": "7bd7a418"
      },
      "outputs": [],
      "source": [
        "X= df.drop(['Id', 'SalePrice'], axis=1)\n",
        "y= df['SalePrice']"
      ]
    },
    {
      "cell_type": "code",
      "execution_count": null,
      "id": "1c46a81c",
      "metadata": {
        "execution": {
          "iopub.execute_input": "2024-08-28T19:14:48.445465Z",
          "iopub.status.busy": "2024-08-28T19:14:48.445014Z",
          "iopub.status.idle": "2024-08-28T19:14:48.460472Z",
          "shell.execute_reply": "2024-08-28T19:14:48.458850Z"
        },
        "papermill": {
          "duration": 0.027795,
          "end_time": "2024-08-28T19:14:48.463474",
          "exception": false,
          "start_time": "2024-08-28T19:14:48.435679",
          "status": "completed"
        },
        "tags": [],
        "id": "1c46a81c",
        "outputId": "1f7c2c10-2c9a-49bb-c69d-743466df8afa"
      },
      "outputs": [
        {
          "name": "stdout",
          "output_type": "stream",
          "text": [
            "X_train shape: (1168, 60)\n",
            "y_train shape: (1168,)\n",
            "X_test shape:  (292, 60)\n",
            "y_test shape:  (292,)\n"
          ]
        }
      ],
      "source": [
        "X_train, X_test, y_train, y_test= train_test_split(X, y, test_size=0.2, shuffle=True, random_state=42)\n",
        "print(\n",
        "        f'X_train shape: {X_train.shape}\\n'+\n",
        "        f'y_train shape: {y_train.shape}\\n'+\n",
        "        f'X_test shape:  {X_test.shape}\\n'+\n",
        "        f'y_test shape:  {y_test.shape}'\n",
        ")"
      ]
    },
    {
      "cell_type": "markdown",
      "id": "912cd96c",
      "metadata": {
        "papermill": {
          "duration": 0.008803,
          "end_time": "2024-08-28T19:14:48.480529",
          "exception": false,
          "start_time": "2024-08-28T19:14:48.471726",
          "status": "completed"
        },
        "tags": [],
        "id": "912cd96c"
      },
      "source": [
        "## Linear Regression Model"
      ]
    },
    {
      "cell_type": "code",
      "execution_count": null,
      "id": "382190e5",
      "metadata": {
        "execution": {
          "iopub.execute_input": "2024-08-28T19:14:48.499963Z",
          "iopub.status.busy": "2024-08-28T19:14:48.499424Z",
          "iopub.status.idle": "2024-08-28T19:14:48.576174Z",
          "shell.execute_reply": "2024-08-28T19:14:48.573752Z"
        },
        "papermill": {
          "duration": 0.090336,
          "end_time": "2024-08-28T19:14:48.579717",
          "exception": false,
          "start_time": "2024-08-28T19:14:48.489381",
          "status": "completed"
        },
        "tags": [],
        "id": "382190e5",
        "outputId": "28cb7f4d-cfce-45b0-e8c9-d99f61fbbeb7"
      },
      "outputs": [
        {
          "name": "stdout",
          "output_type": "stream",
          "text": [
            "Model Score: 0.8428724220021332\n",
            "Mean Absolute Error: 21489.393733093995\n",
            "Mean Squared Error:  1205219779.3888767\n"
          ]
        }
      ],
      "source": [
        "model= LinearRegression()\n",
        "model.fit(X_train, y_train)\n",
        "y_pred= model.predict(X_test)\n",
        "print(f'Model Score: {model.score(X_test, y_test)}')\n",
        "print(f'Mean Absolute Error: {mean_absolute_error(y_test, y_pred)}')\n",
        "print(f'Mean Squared Error:  {mean_squared_error(y_test, y_pred)}')"
      ]
    },
    {
      "cell_type": "markdown",
      "id": "47459d33",
      "metadata": {
        "papermill": {
          "duration": 0.021888,
          "end_time": "2024-08-28T19:14:48.626887",
          "exception": false,
          "start_time": "2024-08-28T19:14:48.604999",
          "status": "completed"
        },
        "tags": [],
        "id": "47459d33"
      },
      "source": [
        "## Output"
      ]
    },
    {
      "cell_type": "code",
      "execution_count": null,
      "id": "c28402fb",
      "metadata": {
        "execution": {
          "iopub.execute_input": "2024-08-28T19:14:48.676647Z",
          "iopub.status.busy": "2024-08-28T19:14:48.675847Z",
          "iopub.status.idle": "2024-08-28T19:14:48.740478Z",
          "shell.execute_reply": "2024-08-28T19:14:48.739327Z"
        },
        "papermill": {
          "duration": 0.088563,
          "end_time": "2024-08-28T19:14:48.743456",
          "exception": false,
          "start_time": "2024-08-28T19:14:48.654893",
          "status": "completed"
        },
        "tags": [],
        "id": "c28402fb",
        "outputId": "4133d608-2058-4e67-e920-c3d775e290a1"
      },
      "outputs": [
        {
          "name": "stdout",
          "output_type": "stream",
          "text": [
            "<class 'pandas.core.frame.DataFrame'>\n",
            "RangeIndex: 1459 entries, 0 to 1458\n",
            "Data columns (total 80 columns):\n",
            " #   Column         Non-Null Count  Dtype  \n",
            "---  ------         --------------  -----  \n",
            " 0   Id             1459 non-null   int64  \n",
            " 1   MSSubClass     1459 non-null   int64  \n",
            " 2   MSZoning       1455 non-null   object \n",
            " 3   LotFrontage    1232 non-null   float64\n",
            " 4   LotArea        1459 non-null   int64  \n",
            " 5   Street         1459 non-null   object \n",
            " 6   Alley          107 non-null    object \n",
            " 7   LotShape       1459 non-null   object \n",
            " 8   LandContour    1459 non-null   object \n",
            " 9   Utilities      1457 non-null   object \n",
            " 10  LotConfig      1459 non-null   object \n",
            " 11  LandSlope      1459 non-null   object \n",
            " 12  Neighborhood   1459 non-null   object \n",
            " 13  Condition1     1459 non-null   object \n",
            " 14  Condition2     1459 non-null   object \n",
            " 15  BldgType       1459 non-null   object \n",
            " 16  HouseStyle     1459 non-null   object \n",
            " 17  OverallQual    1459 non-null   int64  \n",
            " 18  OverallCond    1459 non-null   int64  \n",
            " 19  YearBuilt      1459 non-null   int64  \n",
            " 20  YearRemodAdd   1459 non-null   int64  \n",
            " 21  RoofStyle      1459 non-null   object \n",
            " 22  RoofMatl       1459 non-null   object \n",
            " 23  Exterior1st    1458 non-null   object \n",
            " 24  Exterior2nd    1458 non-null   object \n",
            " 25  MasVnrType     565 non-null    object \n",
            " 26  MasVnrArea     1444 non-null   float64\n",
            " 27  ExterQual      1459 non-null   object \n",
            " 28  ExterCond      1459 non-null   object \n",
            " 29  Foundation     1459 non-null   object \n",
            " 30  BsmtQual       1415 non-null   object \n",
            " 31  BsmtCond       1414 non-null   object \n",
            " 32  BsmtExposure   1415 non-null   object \n",
            " 33  BsmtFinType1   1417 non-null   object \n",
            " 34  BsmtFinSF1     1458 non-null   float64\n",
            " 35  BsmtFinType2   1417 non-null   object \n",
            " 36  BsmtFinSF2     1458 non-null   float64\n",
            " 37  BsmtUnfSF      1458 non-null   float64\n",
            " 38  TotalBsmtSF    1458 non-null   float64\n",
            " 39  Heating        1459 non-null   object \n",
            " 40  HeatingQC      1459 non-null   object \n",
            " 41  CentralAir     1459 non-null   object \n",
            " 42  Electrical     1459 non-null   object \n",
            " 43  1stFlrSF       1459 non-null   int64  \n",
            " 44  2ndFlrSF       1459 non-null   int64  \n",
            " 45  LowQualFinSF   1459 non-null   int64  \n",
            " 46  GrLivArea      1459 non-null   int64  \n",
            " 47  BsmtFullBath   1457 non-null   float64\n",
            " 48  BsmtHalfBath   1457 non-null   float64\n",
            " 49  FullBath       1459 non-null   int64  \n",
            " 50  HalfBath       1459 non-null   int64  \n",
            " 51  BedroomAbvGr   1459 non-null   int64  \n",
            " 52  KitchenAbvGr   1459 non-null   int64  \n",
            " 53  KitchenQual    1458 non-null   object \n",
            " 54  TotRmsAbvGrd   1459 non-null   int64  \n",
            " 55  Functional     1457 non-null   object \n",
            " 56  Fireplaces     1459 non-null   int64  \n",
            " 57  FireplaceQu    729 non-null    object \n",
            " 58  GarageType     1383 non-null   object \n",
            " 59  GarageYrBlt    1381 non-null   float64\n",
            " 60  GarageFinish   1381 non-null   object \n",
            " 61  GarageCars     1458 non-null   float64\n",
            " 62  GarageArea     1458 non-null   float64\n",
            " 63  GarageQual     1381 non-null   object \n",
            " 64  GarageCond     1381 non-null   object \n",
            " 65  PavedDrive     1459 non-null   object \n",
            " 66  WoodDeckSF     1459 non-null   int64  \n",
            " 67  OpenPorchSF    1459 non-null   int64  \n",
            " 68  EnclosedPorch  1459 non-null   int64  \n",
            " 69  3SsnPorch      1459 non-null   int64  \n",
            " 70  ScreenPorch    1459 non-null   int64  \n",
            " 71  PoolArea       1459 non-null   int64  \n",
            " 72  PoolQC         3 non-null      object \n",
            " 73  Fence          290 non-null    object \n",
            " 74  MiscFeature    51 non-null     object \n",
            " 75  MiscVal        1459 non-null   int64  \n",
            " 76  MoSold         1459 non-null   int64  \n",
            " 77  YrSold         1459 non-null   int64  \n",
            " 78  SaleType       1458 non-null   object \n",
            " 79  SaleCondition  1459 non-null   object \n",
            "dtypes: float64(11), int64(26), object(43)\n",
            "memory usage: 912.0+ KB\n"
          ]
        }
      ],
      "source": [
        "df_test= pd.read_csv('/kaggle/input/house-prices-advanced-regression-techniques/test.csv')\n",
        "df_test.info()"
      ]
    },
    {
      "cell_type": "code",
      "execution_count": null,
      "id": "a53216fb",
      "metadata": {
        "execution": {
          "iopub.execute_input": "2024-08-28T19:14:48.763393Z",
          "iopub.status.busy": "2024-08-28T19:14:48.762501Z",
          "iopub.status.idle": "2024-08-28T19:14:48.798657Z",
          "shell.execute_reply": "2024-08-28T19:14:48.797102Z"
        },
        "papermill": {
          "duration": 0.049907,
          "end_time": "2024-08-28T19:14:48.801863",
          "exception": false,
          "start_time": "2024-08-28T19:14:48.751956",
          "status": "completed"
        },
        "tags": [],
        "id": "a53216fb"
      },
      "outputs": [],
      "source": [
        "preprocess(df_test)"
      ]
    },
    {
      "cell_type": "code",
      "execution_count": null,
      "id": "8eb68484",
      "metadata": {
        "execution": {
          "iopub.execute_input": "2024-08-28T19:14:48.821345Z",
          "iopub.status.busy": "2024-08-28T19:14:48.820814Z",
          "iopub.status.idle": "2024-08-28T19:14:48.834586Z",
          "shell.execute_reply": "2024-08-28T19:14:48.833238Z"
        },
        "papermill": {
          "duration": 0.02676,
          "end_time": "2024-08-28T19:14:48.837585",
          "exception": false,
          "start_time": "2024-08-28T19:14:48.810825",
          "status": "completed"
        },
        "tags": [],
        "id": "8eb68484",
        "outputId": "eda03a2e-f3df-4afc-856e-68e665768619"
      },
      "outputs": [
        {
          "data": {
            "text/plain": [
              "BsmtFullBath    2\n",
              "BsmtHalfBath    2\n",
              "TotalBsmtSF     1\n",
              "BsmtUnfSF       1\n",
              "BsmtFinSF2      1\n",
              "BsmtFinSF1      1\n",
              "GarageCars      1\n",
              "GarageArea      1\n",
              "HalfBath        0\n",
              "KitchenAbvGr    0\n",
              "BedroomAbvGr    0\n",
              "Id              0\n",
              "FullBath        0\n",
              "TotRmsAbvGrd    0\n",
              "GrLivArea       0\n",
              "LowQualFinSF    0\n",
              "KitchenQual     0\n",
              "Functional      0\n",
              "1stFlrSF        0\n",
              "Fireplaces      0\n",
              "dtype: int64"
            ]
          },
          "execution_count": 12,
          "metadata": {},
          "output_type": "execute_result"
        }
      ],
      "source": [
        "df_test.isna().sum().sort_values(ascending=False).head(20)"
      ]
    },
    {
      "cell_type": "code",
      "execution_count": null,
      "id": "10c765af",
      "metadata": {
        "execution": {
          "iopub.execute_input": "2024-08-28T19:14:48.858145Z",
          "iopub.status.busy": "2024-08-28T19:14:48.856793Z",
          "iopub.status.idle": "2024-08-28T19:14:48.878525Z",
          "shell.execute_reply": "2024-08-28T19:14:48.876893Z"
        },
        "papermill": {
          "duration": 0.035398,
          "end_time": "2024-08-28T19:14:48.882094",
          "exception": false,
          "start_time": "2024-08-28T19:14:48.846696",
          "status": "completed"
        },
        "tags": [],
        "id": "10c765af"
      },
      "outputs": [],
      "source": [
        "imputer= SimpleImputer()\n",
        "X_new= imputer.fit_transform(df_test.drop(['Id'], axis=1))"
      ]
    },
    {
      "cell_type": "code",
      "execution_count": null,
      "id": "c8c180ed",
      "metadata": {
        "execution": {
          "iopub.execute_input": "2024-08-28T19:14:48.901640Z",
          "iopub.status.busy": "2024-08-28T19:14:48.901164Z",
          "iopub.status.idle": "2024-08-28T19:14:48.921313Z",
          "shell.execute_reply": "2024-08-28T19:14:48.919262Z"
        },
        "papermill": {
          "duration": 0.036891,
          "end_time": "2024-08-28T19:14:48.927978",
          "exception": false,
          "start_time": "2024-08-28T19:14:48.891087",
          "status": "completed"
        },
        "tags": [],
        "id": "c8c180ed",
        "outputId": "05470f5f-79f7-4d52-affa-725d9d097d91"
      },
      "outputs": [
        {
          "name": "stdout",
          "output_type": "stream",
          "text": [
            "number of rows: 1459\n"
          ]
        },
        {
          "name": "stderr",
          "output_type": "stream",
          "text": [
            "/opt/conda/lib/python3.10/site-packages/sklearn/base.py:439: UserWarning: X does not have valid feature names, but LinearRegression was fitted with feature names\n",
            "  warnings.warn(\n"
          ]
        },
        {
          "data": {
            "text/plain": [
              "array([113369.5052003 , 161708.07748291, 168286.76898218, ...,\n",
              "       164626.49966942, 101074.22375213, 247366.15251729])"
            ]
          },
          "execution_count": 14,
          "metadata": {},
          "output_type": "execute_result"
        }
      ],
      "source": [
        "y_pred= model.predict(X_new)\n",
        "\n",
        "print(f'number of rows: {len(y_pred)}')\n",
        "y_pred"
      ]
    },
    {
      "cell_type": "code",
      "execution_count": null,
      "id": "a4d6d79e",
      "metadata": {
        "execution": {
          "iopub.execute_input": "2024-08-28T19:14:48.968036Z",
          "iopub.status.busy": "2024-08-28T19:14:48.967258Z",
          "iopub.status.idle": "2024-08-28T19:14:48.993214Z",
          "shell.execute_reply": "2024-08-28T19:14:48.991615Z"
        },
        "papermill": {
          "duration": 0.051064,
          "end_time": "2024-08-28T19:14:48.997992",
          "exception": false,
          "start_time": "2024-08-28T19:14:48.946928",
          "status": "completed"
        },
        "tags": [],
        "id": "a4d6d79e",
        "outputId": "5f51f630-15f3-4946-d8f0-2681edcdd05c"
      },
      "outputs": [
        {
          "name": "stdout",
          "output_type": "stream",
          "text": [
            "<class 'pandas.core.frame.DataFrame'>\n",
            "RangeIndex: 1459 entries, 0 to 1458\n",
            "Data columns (total 2 columns):\n",
            " #   Column     Non-Null Count  Dtype  \n",
            "---  ------     --------------  -----  \n",
            " 0   Id         1459 non-null   int64  \n",
            " 1   SalePrice  1459 non-null   float64\n",
            "dtypes: float64(1), int64(1)\n",
            "memory usage: 22.9 KB\n"
          ]
        }
      ],
      "source": [
        "submission= pd.read_csv('/kaggle/input/house-prices-advanced-regression-techniques/sample_submission.csv')\n",
        "submission.info()"
      ]
    },
    {
      "cell_type": "code",
      "execution_count": null,
      "id": "111e10ee",
      "metadata": {
        "execution": {
          "iopub.execute_input": "2024-08-28T19:14:49.034804Z",
          "iopub.status.busy": "2024-08-28T19:14:49.034261Z",
          "iopub.status.idle": "2024-08-28T19:14:49.042787Z",
          "shell.execute_reply": "2024-08-28T19:14:49.041099Z"
        },
        "papermill": {
          "duration": 0.028188,
          "end_time": "2024-08-28T19:14:49.045904",
          "exception": false,
          "start_time": "2024-08-28T19:14:49.017716",
          "status": "completed"
        },
        "tags": [],
        "id": "111e10ee"
      },
      "outputs": [],
      "source": [
        "submission['SalePrice']= y_pred"
      ]
    },
    {
      "cell_type": "code",
      "execution_count": null,
      "id": "7e3c2cbb",
      "metadata": {
        "execution": {
          "iopub.execute_input": "2024-08-28T19:14:49.067813Z",
          "iopub.status.busy": "2024-08-28T19:14:49.067316Z",
          "iopub.status.idle": "2024-08-28T19:14:49.083203Z",
          "shell.execute_reply": "2024-08-28T19:14:49.081813Z"
        },
        "papermill": {
          "duration": 0.030742,
          "end_time": "2024-08-28T19:14:49.086901",
          "exception": false,
          "start_time": "2024-08-28T19:14:49.056159",
          "status": "completed"
        },
        "tags": [],
        "id": "7e3c2cbb"
      },
      "outputs": [],
      "source": [
        "submission.to_csv('submission.csv', index=False)"
      ]
    }
  ],
  "metadata": {
    "kaggle": {
      "accelerator": "none",
      "dataSources": [
        {
          "databundleVersionId": 868283,
          "sourceId": 5407,
          "sourceType": "competition"
        }
      ],
      "dockerImageVersionId": 30761,
      "isGpuEnabled": false,
      "isInternetEnabled": true,
      "language": "python",
      "sourceType": "notebook"
    },
    "kernelspec": {
      "display_name": "Python 3",
      "language": "python",
      "name": "python3"
    },
    "language_info": {
      "codemirror_mode": {
        "name": "ipython",
        "version": 3
      },
      "file_extension": ".py",
      "mimetype": "text/x-python",
      "name": "python",
      "nbconvert_exporter": "python",
      "pygments_lexer": "ipython3",
      "version": "3.10.14"
    },
    "papermill": {
      "default_parameters": {},
      "duration": 8.391821,
      "end_time": "2024-08-28T19:14:49.820168",
      "environment_variables": {},
      "exception": null,
      "input_path": "__notebook__.ipynb",
      "output_path": "__notebook__.ipynb",
      "parameters": {},
      "start_time": "2024-08-28T19:14:41.428347",
      "version": "2.6.0"
    },
    "colab": {
      "provenance": []
    }
  },
  "nbformat": 4,
  "nbformat_minor": 5
}